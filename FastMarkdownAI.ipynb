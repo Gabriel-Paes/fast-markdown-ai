{
  "nbformat": 4,
  "nbformat_minor": 0,
  "metadata": {
    "colab": {
      "provenance": [],
      "authorship_tag": "ABX9TyN7RAH9o3gJaWdG3woFLihU",
      "include_colab_link": true
    },
    "kernelspec": {
      "name": "python3",
      "display_name": "Python 3"
    },
    "language_info": {
      "name": "python"
    }
  },
  "cells": [
    {
      "cell_type": "markdown",
      "metadata": {
        "id": "view-in-github",
        "colab_type": "text"
      },
      "source": [
        "<a href=\"https://colab.research.google.com/github/Gabriel-Paes/fast-markdown-ai/blob/main/FastMarkdownAI.ipynb\" target=\"_parent\"><img src=\"https://colab.research.google.com/assets/colab-badge.svg\" alt=\"Open In Colab\"/></a>"
      ]
    },
    {
      "cell_type": "markdown",
      "source": [
        "# **Fast Markdown AI** 📄\n",
        "\n",
        "## Instalação da SDK"
      ],
      "metadata": {
        "id": "UvzhYc9rfSpK"
      }
    },
    {
      "cell_type": "code",
      "source": [
        "pip install -q -U google-generativeai"
      ],
      "metadata": {
        "id": "UuUSZdaqcEFg"
      },
      "execution_count": 2,
      "outputs": []
    },
    {
      "cell_type": "markdown",
      "source": [
        "## Importando dependencias e key 📂🔑\n",
        "\n",
        "- Vale resaltar que é sempre boa prática usar de uma variável de ambiente para dados sensíveis."
      ],
      "metadata": {
        "id": "2mG7dV6cg8iK"
      }
    },
    {
      "cell_type": "code",
      "execution_count": 3,
      "metadata": {
        "id": "PyKu7luTaDUJ"
      },
      "outputs": [],
      "source": [
        "import google.generativeai as genai\n",
        "from google.colab import userdata\n",
        "\n",
        "API_KEY = userdata.get('API_KEY')\n",
        "genai.configure(api_key=API_KEY)"
      ]
    },
    {
      "cell_type": "markdown",
      "source": [
        "## Listando os modelos generativos disponíveis 🗂️"
      ],
      "metadata": {
        "id": "Zv0UfBcMhvsh"
      }
    },
    {
      "cell_type": "code",
      "source": [
        "for m in genai.list_models():\n",
        "  if 'generateContent' in m.supported_generation_methods:\n",
        "    print (m.name)"
      ],
      "metadata": {
        "colab": {
          "base_uri": "https://localhost:8080/",
          "height": 139
        },
        "id": "kOIIkHlFdUPL",
        "outputId": "5e2b776a-96b4-4d59-ff01-7c7a22d7a352"
      },
      "execution_count": 4,
      "outputs": [
        {
          "output_type": "stream",
          "name": "stdout",
          "text": [
            "models/gemini-1.0-pro\n",
            "models/gemini-1.0-pro-001\n",
            "models/gemini-1.0-pro-latest\n",
            "models/gemini-1.0-pro-vision-latest\n",
            "models/gemini-1.5-pro-latest\n",
            "models/gemini-pro\n",
            "models/gemini-pro-vision\n"
          ]
        }
      ]
    },
    {
      "cell_type": "markdown",
      "source": [
        "## Configurando parâmetros do modelo 🧮"
      ],
      "metadata": {
        "id": "fh3Hhyk-ifos"
      }
    },
    {
      "cell_type": "code",
      "source": [
        "safety_settings = [\n",
        "  {\n",
        "    \"category\": \"HARM_CATEGORY_HARASSMENT\",\n",
        "    \"threshold\": \"BLOCK_MEDIUM_AND_ABOVE\"\n",
        "  },\n",
        "  {\n",
        "    \"category\": \"HARM_CATEGORY_HATE_SPEECH\",\n",
        "    \"threshold\": \"BLOCK_MEDIUM_AND_ABOVE\"\n",
        "  },\n",
        "  {\n",
        "    \"category\": \"HARM_CATEGORY_SEXUALLY_EXPLICIT\",\n",
        "    \"threshold\": \"BLOCK_MEDIUM_AND_ABOVE\"\n",
        "  },\n",
        "  {\n",
        "    \"category\": \"HARM_CATEGORY_DANGEROUS_CONTENT\",\n",
        "    \"threshold\": \"BLOCK_MEDIUM_AND_ABOVE\"\n",
        "  },\n",
        "]\n",
        "\n",
        "generation_config = {\n",
        "  \"candidate_count\": 1,\n",
        "  \"temperature\": 0.8\n",
        "}\n",
        "\n",
        "system_instruction = \"Você foi contratado para fazer o readme do projeto. A partir de um trecho de código ou resumo do projeto você deve extrair dados importantes como: resumo sobre a funcionalidade do sistema e informações de execução do projeto (trazendo exemplos em bloco de código) e usando emojis. Entregue somente o markdown do projeto.\"\n",
        "\n",
        "# Inicializando o modelo\n",
        "model = genai.GenerativeModel(model_name='gemini-1.5-pro-latest', safety_settings=safety_settings, generation_config=generation_config, system_instruction=system_instruction)"
      ],
      "metadata": {
        "id": "Qqy51PLVdHGd"
      },
      "execution_count": 11,
      "outputs": []
    },
    {
      "cell_type": "markdown",
      "source": [
        "## Usando o Modelo 💻\n",
        "\n",
        "- Aqui temos um ponto importante que é o `prompt_parts` onde passo exemplos com resultados que espero."
      ],
      "metadata": {
        "id": "zbYyxv6Ui__z"
      }
    },
    {
      "cell_type": "code",
      "source": [
        "prompt = input(\"Informe o código, ou um resumo do seu projeto: \")\n",
        "\n",
        "prompt_parts = [\n",
        "  \"input: pip install -q -U google-generativeai  import google.generativeai as genai from google.colab import userdata  API_KEY = userdata.get('API_KEY') genai.configure(api_key=API_KEY)  for m in genai.list_models():   if 'generateContent' in m.supported_generation_methods:     print (m.name)  safety_settings = [   {     \\\"category\\\": \\\"HARM_CATEGORY_HARASSMENT\\\",     \\\"threshold\\\": \\\"BLOCK_MEDIUM_AND_ABOVE\\\"   },   {     \\\"category\\\": \\\"HARM_CATEGORY_HATE_SPEECH\\\",     \\\"threshold\\\": \\\"BLOCK_MEDIUM_AND_ABOVE\\\"   },   {     \\\"category\\\": \\\"HARM_CATEGORY_SEXUALLY_EXPLICIT\\\",     \\\"threshold\\\": \\\"BLOCK_MEDIUM_AND_ABOVE\\\"   },   {     \\\"category\\\": \\\"HARM_CATEGORY_DANGEROUS_CONTENT\\\",     \\\"threshold\\\": \\\"BLOCK_MEDIUM_AND_ABOVE\\\"   }, ]  generation_config = {   \\\"candidate_count\\\": 1,   \\\"temperature\\\": 0.8 }  system_instruction = \\\"Você foi contratado para fazer o readme do projeto. A partir de um trecho de código ou resumo do projeto você deve extrair dados importantes como: resumo sobre a funcionalidade do sistema e informações de execução do projeto (trazendo exemplos em bloco de código). Entregue somente o markdown do projeto.\\\"  # Inicializando o modelo model = genai.GenerativeModel(model_name='gemini-1.5-pro-latest', safety_settings=safety_settings, generation_config=generation_config, system_instruction=system_instruction)   prompt = input(\\\"Informe o código, ou um resumo do seu projeto: \\\")  prompt_parts = [   f\\\"input: {prompt}\\\",   \\\"output: \\\" ]  response = model.generate_content(prompt_parts) print(response.text)\",\n",
        "  \"output: ## Google Generative AI com Gemini-1.5-pro   Este projeto apresenta a integração da biblioteca `google-generativeai` com o poderoso modelo de linguagem `gemini-1.5-pro:latest` para a geração de conteúdo textual.  ### Pré-requisitos  * Python 3.7+ * Biblioteca `google-generativeai` * Chave de API do Google Generative AI  ### Instalação  ```sh pip install -q -U google-generativeai ```  ### Como usar  1. **Configurar a API:**  Para utilizar este projeto, é necessário obter uma chave de API do Google Generative AI. Você pode gerar essa chave acessando o Google AI Studio [🔗](https://cloud.google.com/generative-ai-studio). Após obter a chave, defina a variável de ambiente `API_KEY` com o valor fornecido.  ```python import google.generativeai as genai from google.colab import userdata  API_KEY = userdata.get('API_KEY') genai.configure(api_key=API_KEY) ```  2. **Listar Modelos Disponíveis:**  Antes de prosseguir, é útil verificar os modelos disponíveis para garantir compatibilidade e escolher o mais adequado para o seu caso de uso.  ```python for m in genai.list_models():     if 'generateContent' in m.supported_generation_methods:         print(m.name) ```  3. **Configurar as Configurações de Segurança e Geração:**  Defina as configurações de segurança e geração conforme necessário para garantir a adequação e segurança da geração de conteúdo.  ```python safety_settings = [     {\\\"category\\\": \\\"HARM_CATEGORY_HARASSMENT\\\", \\\"threshold\\\": \\\"BLOCK_MEDIUM_AND_ABOVE\\\"},     {\\\"category\\\": \\\"HARM_CATEGORY_HATE_SPEECH\\\", \\\"threshold\\\": \\\"BLOCK_MEDIUM_AND_ABOVE\\\"},     {\\\"category\\\": \\\"HARM_CATEGORY_SEXUALLY_EXPLICIT\\\", \\\"threshold\\\": \\\"BLOCK_MEDIUM_AND_ABOVE\\\"},     {\\\"category\\\": \\\"HARM_CATEGORY_DANGEROUS_CONTENT\\\", \\\"threshold\\\": \\\"BLOCK_MEDIUM_AND_ABOVE\\\"}, ]  generation_config = {\\\"candidate_count\\\": 1, \\\"temperature\\\": 0.8} ```  4. **Inicializar o Modelo:**  Utilize as configurações definidas anteriormente para inicializar o modelo para geração de conteúdo.  ```python system_instruction = \\\"Você foi contratado para fazer o readme do projeto. A partir de um trecho de código ou resumo do projeto você deve extrair dados importantes como: resumo sobre a funcionalidade do sistema e informações de execução do projeto (trazendo exemplos em bloco de código). Entregue somente o markdown do projeto.\\\"  model = genai.GenerativeModel(     model_name='gemini-1.5-pro-latest',     safety_settings=safety_settings,     generation_config=generation_config,     system_instruction=system_instruction ) ```  5. **Gerar Conteúdo:**  Utilize o modelo inicializado para gerar conteúdo com base em um prompt fornecido pelo usuário.  ```python prompt = input(\\\"Informe o código, ou um resumo do seu projeto: \\\")  prompt_parts = [f\\\"input: {prompt}\\\", \\\"output: \\\"]  response = model.generate_content(prompt_parts) print(response.text) ```  ---  ***Este README.md foi gerado com ❤️🤖 por [fast-markdown-ai](https://github.com/Gabriel-Paes/fast-markdown-ai/)***\",\n",
        "  \"input: Crie um readme.md para um api node.js com duas rotas uma Hello, World! e outra time\",\n",
        "  \"output: # Projeto de API Node.js\\n\\nEste projeto é uma API em Node.js que oferece duas rotas: uma rota para exibir \\\"Hello, World!\\\" e outra rota para retornar o tempo atual.\\n\\n### Pré-requisitos\\n\\n* Node.js instalado\\n* Gerenciador de pacotes npm ou yarn\\n\\n### Instalação\\n\\n1. Clone o repositório:\\n\\n```sh\\ngit clone https://github.com/seu-usuario/seu-projeto.git\\n```\\n\\n2. Instale as dependências:\\n\\n```sh\\ncd seu-projeto\\nnpm install\\n```\\nou\\n```sh\\nyarn\\n```\\n\\n### Como usar\\n\\n1. **Executar o servidor:**\\n\\n```sh\\nnpm start\\n```\\nou\\n```sh\\nyarn start\\n```\\n\\n2. **Acessar as rotas:**\\n\\n* Rota `Hello, World!`:\\n    ```\\n    GET /hello\\n    ```\\n    Retorna a mensagem \\\"Hello, World!\\\".\\n\\n* Rota `/time`:\\n    ```\\n    GET /time\\n    ```\\n    Retorna o tempo atual.\\n\\n---\\n\\n***Este README.md foi gerado com ❤️🤖 por [fast-markdown-ai](https://github.com/Gabriel-Paes/fast-markdown-ai/)***\",\n",
        "  f\"input: {prompt}\",\n",
        "  \"output: \",\n",
        "]\n",
        "\n",
        "\n",
        "response = model.generate_content(prompt_parts)\n",
        "print(response.text)"
      ],
      "metadata": {
        "id": "t9DwSwDScLpy"
      },
      "execution_count": null,
      "outputs": []
    }
  ]
}